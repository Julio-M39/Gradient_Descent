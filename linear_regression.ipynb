{
  "nbformat": 4,
  "nbformat_minor": 0,
  "metadata": {
    "colab": {
      "provenance": []
    },
    "kernelspec": {
      "name": "python3",
      "display_name": "Python 3"
    },
    "language_info": {
      "name": "python"
    }
  },
  "cells": [
    {
      "cell_type": "markdown",
      "source": [
        "## SIMPLE LINEAR REGRESSION\n"
      ],
      "metadata": {
        "id": "L3OUuOCglzdv"
      }
    },
    {
      "cell_type": "code",
      "execution_count": 1,
      "metadata": {
        "id": "YOSF-xwGlUe9"
      },
      "outputs": [],
      "source": [
        "## IMPORTS\n",
        "import numpy as np\n",
        "import matplotlib.pyplot as plt\n",
        "import math\n",
        "\n",
        "%matplotlib inline"
      ]
    },
    {
      "cell_type": "markdown",
      "source": [
        "## DATA"
      ],
      "metadata": {
        "id": "ZHb_vxUjmLHD"
      }
    },
    {
      "cell_type": "code",
      "source": [
        "X = [0.5, 2.2, 2.0]\n",
        "y = [2.0, 2.5, 1.4]"
      ],
      "metadata": {
        "id": "5dJLDiBwl_Dx"
      },
      "execution_count": 2,
      "outputs": []
    },
    {
      "cell_type": "markdown",
      "source": [
        "## LEARNING RATE (descent speed)"
      ],
      "metadata": {
        "id": "kob4wyHHmSMn"
      }
    },
    {
      "cell_type": "code",
      "source": [
        "alpha = 0.01"
      ],
      "metadata": {
        "id": "lHLtf0hSmO6B"
      },
      "execution_count": 3,
      "outputs": []
    },
    {
      "cell_type": "markdown",
      "source": [
        "## INITIAL VALUES FOR W0 and W1"
      ],
      "metadata": {
        "id": "NlWKHWrmmWyZ"
      }
    },
    {
      "cell_type": "code",
      "source": [
        "w0 = 0.1\n",
        "w1 = 0.1"
      ],
      "metadata": {
        "id": "2UbOWwkUmWC8"
      },
      "execution_count": 4,
      "outputs": []
    },
    {
      "cell_type": "markdown",
      "source": [
        "## DEFINING THE HYPOTHESIS"
      ],
      "metadata": {
        "id": "qcvF2xEome98"
      }
    },
    {
      "cell_type": "code",
      "source": [
        "def y_hat(x, w0, w1):\n",
        "    return w0 + w1*x"
      ],
      "metadata": {
        "id": "Q-xcGPbwmeKq"
      },
      "execution_count": 5,
      "outputs": []
    },
    {
      "cell_type": "code",
      "source": [
        "## making a prediction even at a high cost\n",
        "y_hat(1.5, w0, w1)"
      ],
      "metadata": {
        "colab": {
          "base_uri": "https://localhost:8080/"
        },
        "id": "HOd7LBnsmkE8",
        "outputId": "f7163a93-f065-4bb9-ca35-9003675aa2b3"
      },
      "execution_count": 6,
      "outputs": [
        {
          "output_type": "execute_result",
          "data": {
            "text/plain": [
              "0.25"
            ]
          },
          "metadata": {},
          "execution_count": 6
        }
      ]
    },
    {
      "cell_type": "markdown",
      "source": [
        "## FUNCTION TO PLOT POINTS AND REGRESSION"
      ],
      "metadata": {
        "id": "tm13WppQm9V8"
      }
    },
    {
      "cell_type": "code",
      "source": [
        "def plot_line(X, y, w0, w1):\n",
        "    x_values = [i for i in range(int(min(X))-1,int(max(X))+2)]\n",
        "    y_values = [y_hat(x, w0, w1) for x in x_values]\n",
        "    plt.plot(x_values,y_values,'r')\n",
        "    plt.plot(X,y,'bo')"
      ],
      "metadata": {
        "id": "NNU7ztfemrza"
      },
      "execution_count": 7,
      "outputs": []
    },
    {
      "cell_type": "code",
      "source": [
        "plot_line(X,y,w0,w1)"
      ],
      "metadata": {
        "colab": {
          "base_uri": "https://localhost:8080/",
          "height": 430
        },
        "id": "fyvk905ZnApo",
        "outputId": "22b38784-ec3c-4242-c54f-62ec803dc0c0"
      },
      "execution_count": 8,
      "outputs": [
        {
          "output_type": "display_data",
          "data": {
            "text/plain": [
              "<Figure size 640x480 with 1 Axes>"
            ],
            "image/png": "[encoded data removed]"
          },
          "metadata": {}
        }
      ]
    },
    {
      "cell_type": "markdown",
      "source": [
        "## MSE FUNCTION (Mean Squared Error)"
      ],
      "metadata": {
        "id": "VcoQusEPnoj9"
      }
    },
    {
      "cell_type": "code",
      "source": [
        "def MSE (X, y , w0 , w1):\n",
        "    cost = 0\n",
        "    m = float(len(X))\n",
        "    for i in range(0, len(X)):\n",
        "        cost += (y_hat(X[i], w0, w1)-y[i])**2\n",
        "\n",
        "    return cost/m"
      ],
      "metadata": {
        "id": "uF9_BvpqnCHe"
      },
      "execution_count": 23,
      "outputs": []
    },
    {
      "cell_type": "code",
      "source": [
        "MSE(X,y, w0, w1)"
      ],
      "metadata": {
        "colab": {
          "base_uri": "https://localhost:8080/"
        },
        "id": "-OJ2ZM04nq_P",
        "outputId": "67b41434-4678-4932-aaeb-0a53f478309a"
      },
      "execution_count": 24,
      "outputs": [
        {
          "output_type": "execute_result",
          "data": {
            "text/plain": [
              "0.23813731895263582"
            ]
          },
          "metadata": {},
          "execution_count": 24
        }
      ]
    },
    {
      "cell_type": "markdown",
      "source": [
        "## GRADIENT DESCENT ALGORITHM\n",
        "### GRADIENT DESCENDING STEP"
      ],
      "metadata": {
        "id": "gmirbRYknvaT"
      }
    },
    {
      "cell_type": "code",
      "source": [
        "def gradient_descent_step(w0, w1, X, y, alpha):\n",
        "\n",
        "    erro_w0 = 0\n",
        "    erro_w1 = 0\n",
        "    m = float(len(X))\n",
        "\n",
        "    for i in range(0,len(X)):\n",
        "        erro_w0 += y_hat(X[i], w0, w1) - y[i]\n",
        "        erro_w1 += (y_hat(X[i], w0, w1) - y[i]) * X[i]\n",
        "\n",
        "    new_w0 = w0 - alpha * (1/m) * erro_w0\n",
        "    new_w1 = w1 - alpha * (1/m) * erro_w1\n",
        "\n",
        "    return new_w0, new_w1"
      ],
      "metadata": {
        "id": "9U_ei-PlnsZC"
      },
      "execution_count": 25,
      "outputs": []
    },
    {
      "cell_type": "markdown",
      "source": [
        "### GRADIENT DESCENDING LOOP"
      ],
      "metadata": {
        "id": "KaLmN2HTn_3r"
      }
    },
    {
      "cell_type": "code",
      "source": [
        "epoch = 800"
      ],
      "metadata": {
        "id": "ad7Au1HVn7g9"
      },
      "execution_count": 26,
      "outputs": []
    },
    {
      "cell_type": "code",
      "source": [
        "def gradient_descent(w0, w1, X, y, alpha, epoch):\n",
        "    cost = np.zeros(epoch)\n",
        "    for i in range(epoch):\n",
        "        w0 , w1 = gradient_descent_step(w0, w1, X, y , alpha)\n",
        "        cost[i] = MSE(X,y,w0,w1)\n",
        "\n",
        "    return w0, w1, cost"
      ],
      "metadata": {
        "id": "mnD5NchDoEfQ"
      },
      "execution_count": 27,
      "outputs": []
    },
    {
      "cell_type": "code",
      "source": [
        "w0 , w1 , cost = gradient_descent(w0, w1, X, y, alpha, epoch)"
      ],
      "metadata": {
        "id": "Xs5R1VkUoGRa"
      },
      "execution_count": 28,
      "outputs": []
    },
    {
      "cell_type": "code",
      "source": [
        "cost"
      ],
      "metadata": {
        "colab": {
          "base_uri": "https://localhost:8080/"
        },
        "id": "ffwO4uJJoH_i",
        "outputId": "e2ff8ede-3dc8-42b5-dc2b-593f2133f82d"
      },
      "execution_count": 29,
      "outputs": [
        {
          "output_type": "execute_result",
          "data": {
            "text/plain": [
              "array([0.23802906, 0.23792111, 0.23781349, 0.23770619, 0.2375992 ,\n",
              "       0.23749254, 0.23738618, 0.23728015, 0.23717442, 0.23706901,\n",
              "       0.23696392, 0.23685913, 0.23675466, 0.23665049, 0.23654663,\n",
              "       0.23644308, 0.23633984, 0.23623691, 0.23613427, 0.23603195,\n",
              "       0.23592992, 0.2358282 , 0.23572678, 0.23562566, 0.23552484,\n",
              "       0.23542432, 0.2353241 , 0.23522417, 0.23512454, 0.2350252 ,\n",
              "       0.23492616, 0.23482742, 0.23472896, 0.2346308 , 0.23453293,\n",
              "       0.23443534, 0.23433805, 0.23424105, 0.23414433, 0.2340479 ,\n",
              "       0.23395175, 0.23385589, 0.23376032, 0.23366503, 0.23357002,\n",
              "       0.23347529, 0.23338084, 0.23328667, 0.23319278, 0.23309917,\n",
              "       0.23300584, 0.23291278, 0.23282   , 0.23272749, 0.23263526,\n",
              "       0.2325433 , 0.23245162, 0.2323602 , 0.23226906, 0.23217818,\n",
              "       0.23208758, 0.23199724, 0.23190718, 0.23181737, 0.23172784,\n",
              "       0.23163857, 0.23154956, 0.23146082, 0.23137234, 0.23128413,\n",
              "       0.23119617, 0.23110848, 0.23102104, 0.23093387, 0.23084695,\n",
              "       0.23076029, 0.23067389, 0.23058774, 0.23050185, 0.23041621,\n",
              "       0.23033083, 0.2302457 , 0.23016082, 0.2300762 , 0.22999182,\n",
              "       0.2299077 , 0.22982382, 0.22974019, 0.22965681, 0.22957368,\n",
              "       0.22949079, 0.22940815, 0.22932575, 0.2292436 , 0.22916169,\n",
              "       0.22908003, 0.22899861, 0.22891742, 0.22883648, 0.22875578,\n",
              "       0.22867532, 0.22859509, 0.22851511, 0.22843536, 0.22835584,\n",
              "       0.22827656, 0.22819752, 0.22811871, 0.22804014, 0.2279618 ,\n",
              "       0.22788369, 0.22780581, 0.22772816, 0.22765074, 0.22757355,\n",
              "       0.22749659, 0.22741986, 0.22734336, 0.22726708, 0.22719103,\n",
              "       0.2271152 , 0.2270396 , 0.22696422, 0.22688907, 0.22681414,\n",
              "       0.22673943, 0.22666494, 0.22659067, 0.22651663, 0.2264428 ,\n",
              "       0.22636919, 0.2262958 , 0.22622263, 0.22614967, 0.22607693,\n",
              "       0.22600441, 0.2259321 , 0.22586   , 0.22578812, 0.22571645,\n",
              "       0.22564499, 0.22557375, 0.22550271, 0.22543189, 0.22536128,\n",
              "       0.22529087, 0.22522068, 0.22515069, 0.22508091, 0.22501134,\n",
              "       0.22494197, 0.22487281, 0.22480385, 0.2247351 , 0.22466655,\n",
              "       0.22459821, 0.22453006, 0.22446212, 0.22439438, 0.22432684,\n",
              "       0.22425951, 0.22419237, 0.22412543, 0.22405868, 0.22399214,\n",
              "       0.22392579, 0.22385964, 0.22379369, 0.22372793, 0.22366237,\n",
              "       0.223597  , 0.22353182, 0.22346684, 0.22340205, 0.22333745,\n",
              "       0.22327304, 0.22320883, 0.2231448 , 0.22308096, 0.22301732,\n",
              "       0.22295386, 0.22289059, 0.22282751, 0.22276461, 0.2227019 ,\n",
              "       0.22263938, 0.22257704, 0.22251488, 0.22245292, 0.22239113,\n",
              "       0.22232953, 0.22226811, 0.22220687, 0.22214581, 0.22208494,\n",
              "       0.22202424, 0.22196372, 0.22190339, 0.22184323, 0.22178325,\n",
              "       0.22172345, 0.22166383, 0.22160438, 0.22154511, 0.22148601,\n",
              "       0.22142709, 0.22136835, 0.22130977, 0.22125137, 0.22119315,\n",
              "       0.2211351 , 0.22107722, 0.22101951, 0.22096197, 0.2209046 ,\n",
              "       0.2208474 , 0.22079037, 0.22073352, 0.22067682, 0.2206203 ,\n",
              "       0.22056395, 0.22050776, 0.22045174, 0.22039588, 0.22034019,\n",
              "       0.22028467, 0.2202293 , 0.22017411, 0.22011907, 0.2200642 ,\n",
              "       0.2200095 , 0.21995495, 0.21990057, 0.21984635, 0.21979228,\n",
              "       0.21973838, 0.21968464, 0.21963106, 0.21957763, 0.21952437,\n",
              "       0.21947126, 0.21941831, 0.21936552, 0.21931288, 0.2192604 ,\n",
              "       0.21920807, 0.2191559 , 0.21910389, 0.21905202, 0.21900032,\n",
              "       0.21894876, 0.21889736, 0.21884611, 0.21879501, 0.21874407,\n",
              "       0.21869327, 0.21864263, 0.21859213, 0.21854179, 0.21849159,\n",
              "       0.21844154, 0.21839164, 0.21834189, 0.21829229, 0.21824283,\n",
              "       0.21819352, 0.21814436, 0.21809534, 0.21804646, 0.21799774,\n",
              "       0.21794915, 0.21790071, 0.21785242, 0.21780426, 0.21775625,\n",
              "       0.21770838, 0.21766066, 0.21761307, 0.21756563, 0.21751832,\n",
              "       0.21747116, 0.21742414, 0.21737725, 0.21733051, 0.2172839 ,\n",
              "       0.21723743, 0.2171911 , 0.21714491, 0.21709885, 0.21705293,\n",
              "       0.21700715, 0.2169615 , 0.21691599, 0.21687061, 0.21682536,\n",
              "       0.21678025, 0.21673528, 0.21669043, 0.21664572, 0.21660115,\n",
              "       0.2165567 , 0.21651239, 0.2164682 , 0.21642415, 0.21638023,\n",
              "       0.21633644, 0.21629278, 0.21624925, 0.21620585, 0.21616257,\n",
              "       0.21611943, 0.21607641, 0.21603352, 0.21599075, 0.21594812,\n",
              "       0.21590561, 0.21586322, 0.21582096, 0.21577883, 0.21573682,\n",
              "       0.21569494, 0.21565318, 0.21561154, 0.21557003, 0.21552864,\n",
              "       0.21548737, 0.21544622, 0.2154052 , 0.2153643 , 0.21532352,\n",
              "       0.21528286, 0.21524232, 0.2152019 , 0.2151616 , 0.21512142,\n",
              "       0.21508136, 0.21504142, 0.2150016 , 0.21496189, 0.2149223 ,\n",
              "       0.21488283, 0.21484348, 0.21480424, 0.21476512, 0.21472612,\n",
              "       0.21468723, 0.21464845, 0.21460979, 0.21457125, 0.21453282,\n",
              "       0.2144945 , 0.2144563 , 0.21441821, 0.21438023, 0.21434237,\n",
              "       0.21430462, 0.21426698, 0.21422945, 0.21419203, 0.21415472,\n",
              "       0.21411753, 0.21408044, 0.21404347, 0.2140066 , 0.21396984,\n",
              "       0.21393319, 0.21389665, 0.21386022, 0.2138239 , 0.21378768,\n",
              "       0.21375158, 0.21371557, 0.21367968, 0.21364389, 0.21360821,\n",
              "       0.21357263, 0.21353716, 0.21350179, 0.21346653, 0.21343138,\n",
              "       0.21339632, 0.21336138, 0.21332653, 0.21329179, 0.21325715,\n",
              "       0.21322261, 0.21318818, 0.21315385, 0.21311962, 0.21308549,\n",
              "       0.21305146, 0.21301753, 0.21298371, 0.21294998, 0.21291635,\n",
              "       0.21288283, 0.2128494 , 0.21281607, 0.21278284, 0.21274971,\n",
              "       0.21271668, 0.21268375, 0.21265091, 0.21261817, 0.21258553,\n",
              "       0.21255298, 0.21252053, 0.21248818, 0.21245592, 0.21242376,\n",
              "       0.21239169, 0.21235972, 0.21232784, 0.21229606, 0.21226437,\n",
              "       0.21223278, 0.21220127, 0.21216987, 0.21213855, 0.21210733,\n",
              "       0.2120762 , 0.21204517, 0.21201422, 0.21198337, 0.21195261,\n",
              "       0.21192193, 0.21189136, 0.21186087, 0.21183047, 0.21180016,\n",
              "       0.21176994, 0.21173981, 0.21170977, 0.21167982, 0.21164996,\n",
              "       0.21162018, 0.2115905 , 0.2115609 , 0.21153139, 0.21150197,\n",
              "       0.21147263, 0.21144338, 0.21141422, 0.21138515, 0.21135616,\n",
              "       0.21132725, 0.21129844, 0.2112697 , 0.21124106, 0.2112125 ,\n",
              "       0.21118402, 0.21115563, 0.21112732, 0.21109909, 0.21107095,\n",
              "       0.21104289, 0.21101492, 0.21098702, 0.21095922, 0.21093149,\n",
              "       0.21090384, 0.21087628, 0.2108488 , 0.2108214 , 0.21079408,\n",
              "       0.21076684, 0.21073969, 0.21071261, 0.21068561, 0.2106587 ,\n",
              "       0.21063186, 0.2106051 , 0.21057843, 0.21055183, 0.21052531,\n",
              "       0.21049887, 0.2104725 , 0.21044622, 0.21042001, 0.21039388,\n",
              "       0.21036783, 0.21034186, 0.21031596, 0.21029014, 0.2102644 ,\n",
              "       0.21023873, 0.21021314, 0.21018762, 0.21016218, 0.21013681,\n",
              "       0.21011152, 0.21008631, 0.21006117, 0.2100361 , 0.21001111,\n",
              "       0.20998619, 0.20996135, 0.20993658, 0.20991188, 0.20988726,\n",
              "       0.20986271, 0.20983823, 0.20981383, 0.20978949, 0.20976523,\n",
              "       0.20974104, 0.20971693, 0.20969288, 0.20966891, 0.209645  ,\n",
              "       0.20962117, 0.20959741, 0.20957372, 0.2095501 , 0.20952654,\n",
              "       0.20950306, 0.20947965, 0.20945631, 0.20943303, 0.20940983,\n",
              "       0.20938669, 0.20936363, 0.20934063, 0.2093177 , 0.20929484,\n",
              "       0.20927204, 0.20924931, 0.20922665, 0.20920406, 0.20918153,\n",
              "       0.20915907, 0.20913668, 0.20911436, 0.2090921 , 0.2090699 ,\n",
              "       0.20904777, 0.20902571, 0.20900371, 0.20898178, 0.20895991,\n",
              "       0.20893811, 0.20891637, 0.2088947 , 0.20887309, 0.20885154,\n",
              "       0.20883006, 0.20880865, 0.20878729, 0.208766  , 0.20874477,\n",
              "       0.20872361, 0.20870251, 0.20868147, 0.20866049, 0.20863957,\n",
              "       0.20861872, 0.20859793, 0.2085772 , 0.20855653, 0.20853592,\n",
              "       0.20851538, 0.20849489, 0.20847447, 0.2084541 , 0.2084338 ,\n",
              "       0.20841356, 0.20839337, 0.20837325, 0.20835318, 0.20833318,\n",
              "       0.20831323, 0.20829335, 0.20827352, 0.20825375, 0.20823404,\n",
              "       0.20821439, 0.2081948 , 0.20817526, 0.20815579, 0.20813637,\n",
              "       0.208117  , 0.2080977 , 0.20807845, 0.20805926, 0.20804013,\n",
              "       0.20802105, 0.20800203, 0.20798307, 0.20796416, 0.20794531,\n",
              "       0.20792651, 0.20790777, 0.20788909, 0.20787046, 0.20785188,\n",
              "       0.20783336, 0.2078149 , 0.20779649, 0.20777813, 0.20775983,\n",
              "       0.20774159, 0.20772339, 0.20770526, 0.20768717, 0.20766914,\n",
              "       0.20765116, 0.20763324, 0.20761537, 0.20759755, 0.20757978,\n",
              "       0.20756207, 0.20754441, 0.2075268 , 0.20750925, 0.20749174,\n",
              "       0.20747429, 0.20745689, 0.20743954, 0.20742225, 0.207405  ,\n",
              "       0.2073878 , 0.20737066, 0.20735357, 0.20733652, 0.20731953,\n",
              "       0.20730259, 0.2072857 , 0.20726886, 0.20725207, 0.20723533,\n",
              "       0.20721863, 0.20720199, 0.2071854 , 0.20716885, 0.20715236,\n",
              "       0.20713591, 0.20711951, 0.20710317, 0.20708686, 0.20707061,\n",
              "       0.20705441, 0.20703825, 0.20702214, 0.20700608, 0.20699007,\n",
              "       0.20697411, 0.20695819, 0.20694232, 0.20692649, 0.20691072,\n",
              "       0.20689499, 0.2068793 , 0.20686367, 0.20684807, 0.20683253,\n",
              "       0.20681703, 0.20680158, 0.20678617, 0.20677081, 0.2067555 ,\n",
              "       0.20674023, 0.206725  , 0.20670982, 0.20669469, 0.2066796 ,\n",
              "       0.20666455, 0.20664955, 0.20663459, 0.20661968, 0.20660481,\n",
              "       0.20658999, 0.20657521, 0.20656047, 0.20654578, 0.20653113,\n",
              "       0.20651653, 0.20650197, 0.20648745, 0.20647297, 0.20645854,\n",
              "       0.20644415, 0.2064298 , 0.20641549, 0.20640123, 0.20638701,\n",
              "       0.20637283, 0.2063587 , 0.2063446 , 0.20633055, 0.20631654,\n",
              "       0.20630257, 0.20628864, 0.20627475, 0.20626091, 0.2062471 ,\n",
              "       0.20623334, 0.20621962, 0.20620594, 0.20619229, 0.20617869,\n",
              "       0.20616513, 0.20615161, 0.20613813, 0.20612469, 0.20611129,\n",
              "       0.20609793, 0.20608461, 0.20607132, 0.20605808, 0.20604488,\n",
              "       0.20603171, 0.20601859, 0.2060055 , 0.20599245, 0.20597944,\n",
              "       0.20596647, 0.20595354, 0.20594065, 0.20592779, 0.20591497,\n",
              "       0.20590219, 0.20588945, 0.20587675, 0.20586408, 0.20585145,\n",
              "       0.20583886, 0.20582631, 0.20581379, 0.20580131, 0.20578887,\n",
              "       0.20577646, 0.20576409, 0.20575176, 0.20573947, 0.20572721,\n",
              "       0.20571498, 0.2057028 , 0.20569065, 0.20567853, 0.20566645,\n",
              "       0.20565441, 0.2056424 , 0.20563043, 0.20561849, 0.20560659,\n",
              "       0.20559473, 0.2055829 , 0.2055711 , 0.20555934, 0.20554761,\n",
              "       0.20553592, 0.20552427, 0.20551264, 0.20550106, 0.2054895 ,\n",
              "       0.20547799, 0.2054665 , 0.20545505, 0.20544363, 0.20543225,\n",
              "       0.2054209 , 0.20540959, 0.2053983 , 0.20538706, 0.20537584,\n",
              "       0.20536466, 0.20535351, 0.20534239, 0.20533131, 0.20532026,\n",
              "       0.20530924, 0.20529826, 0.20528731, 0.20527639, 0.2052655 ,\n",
              "       0.20525465, 0.20524382, 0.20523303, 0.20522227, 0.20521155,\n",
              "       0.20520085, 0.20519019, 0.20517956, 0.20516896, 0.20515839,\n",
              "       0.20514785, 0.20513734, 0.20512687, 0.20511642, 0.20510601,\n",
              "       0.20509563, 0.20508528, 0.20507496, 0.20506467, 0.20505441,\n",
              "       0.20504418, 0.20503398, 0.20502381, 0.20501367, 0.20500356])"
            ]
          },
          "metadata": {},
          "execution_count": 29
        }
      ]
    },
    {
      "cell_type": "code",
      "source": [
        "print(\"w0={}, w1={}\".format(w0,w1))"
      ],
      "metadata": {
        "colab": {
          "base_uri": "https://localhost:8080/"
        },
        "id": "Ch7w7KeooJNo",
        "outputId": "d8bb8ef6-eedf-4f2a-c671-d9116695e889"
      },
      "execution_count": 30,
      "outputs": [
        {
          "output_type": "stream",
          "name": "stdout",
          "text": [
            "w0=1.7821875206199373, w1=0.10515920494404907\n"
          ]
        }
      ]
    },
    {
      "cell_type": "markdown",
      "source": [
        "## PLOTING THE COST"
      ],
      "metadata": {
        "id": "oQgzBR6poQG9"
      }
    },
    {
      "cell_type": "code",
      "source": [
        "fig, ax = plt.subplots()\n",
        "ax.plot(np.arange(epoch), custo, 'r')\n",
        "ax.set_xlabel('Iterations')\n",
        "ax.set_ylabel('Cost')\n",
        "ax.set_title('MSE vs. Epoch')"
      ],
      "metadata": {
        "colab": {
          "base_uri": "https://localhost:8080/",
          "height": 489
        },
        "id": "yZfEA9hhoNkE",
        "outputId": "c5ddccfd-c2db-487c-98fc-0836eca3e7ec"
      },
      "execution_count": 31,
      "outputs": [
        {
          "output_type": "execute_result",
          "data": {
            "text/plain": [
              "Text(0.5, 1.0, 'MSE vs. Epoch')"
            ]
          },
          "metadata": {},
          "execution_count": 31
        },
        {
          "output_type": "display_data",
          "data": {
            "text/plain": [
              "<Figure size 640x480 with 1 Axes>"
            ],
            "image/png": "[encoded data removed]"
          },
          "metadata": {}
        }
      ]
    },
    {
      "cell_type": "markdown",
      "source": [
        "## PLOTING THE OPTIMIZED HYPOTHESIS"
      ],
      "metadata": {
        "id": "nDPZm0IIohEE"
      }
    },
    {
      "cell_type": "code",
      "source": [
        "plot_line(X,y, w0, w1)"
      ],
      "metadata": {
        "colab": {
          "base_uri": "https://localhost:8080/",
          "height": 430
        },
        "id": "_NfK8QNJoS8D",
        "outputId": "74e13ccb-8572-4e97-c36c-75f4b9e10c4d"
      },
      "execution_count": 32,
      "outputs": [
        {
          "output_type": "display_data",
          "data": {
            "text/plain": [
              "<Figure size 640x480 with 1 Axes>"
            ],
            "image/png": "[encoded data removed]"
          },
          "metadata": {}
        }
      ]
    },
    {
      "cell_type": "markdown",
      "source": [
        "## MADE A PREDICTION"
      ],
      "metadata": {
        "id": "MEsRREaSooYS"
      }
    },
    {
      "cell_type": "code",
      "source": [
        "y_hat(1.5, w0, w1)"
      ],
      "metadata": {
        "colab": {
          "base_uri": "https://localhost:8080/"
        },
        "id": "BztNOiPZojV6",
        "outputId": "39fe04c3-f68a-463d-ff1c-e83287a1a432"
      },
      "execution_count": 33,
      "outputs": [
        {
          "output_type": "execute_result",
          "data": {
            "text/plain": [
              "1.939926328036011"
            ]
          },
          "metadata": {},
          "execution_count": 33
        }
      ]
    },
    {
      "cell_type": "code",
      "source": [
        "print(\"w0={}, w1={}\".format(w0,w1))"
      ],
      "metadata": {
        "colab": {
          "base_uri": "https://localhost:8080/"
        },
        "id": "0oLs-NKEoq_l",
        "outputId": "b393d741-0e3b-4770-f329-09db84cd69e3"
      },
      "execution_count": 34,
      "outputs": [
        {
          "output_type": "stream",
          "name": "stdout",
          "text": [
            "w0=1.7821875206199373, w1=0.10515920494404907\n"
          ]
        }
      ]
    },
    {
      "cell_type": "code",
      "source": [
        "w0 + w1*1.5"
      ],
      "metadata": {
        "colab": {
          "base_uri": "https://localhost:8080/"
        },
        "id": "FPrhyVHQosmd",
        "outputId": "21c13656-499f-4979-c55d-380fe35f52cd"
      },
      "execution_count": 35,
      "outputs": [
        {
          "output_type": "execute_result",
          "data": {
            "text/plain": [
              "1.939926328036011"
            ]
          },
          "metadata": {},
          "execution_count": 35
        }
      ]
    },
    {
      "cell_type": "code",
      "source": [],
      "metadata": {
        "id": "Ih1ln33UouhY"
      },
      "execution_count": 22,
      "outputs": []
    }
  ]
}